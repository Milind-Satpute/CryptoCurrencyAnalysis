{
 "cells": [
  {
   "cell_type": "code",
   "execution_count": 51,
   "metadata": {},
   "outputs": [],
   "source": [
    "import warnings\n",
    "warnings.filterwarnings('ignore')\n",
    "import numpy as np \n",
    "import pandas as pd \n",
    "from pandas import DataFrame\n",
    "import matplotlib.pyplot as plt\n",
    "import matplotlib.dates as mdates\n",
    "import matplotlib.ticker as mticker\n",
    "#from matplotlib.finance import candlestick_ohlc\n",
    "import seaborn as sns\n",
    "#importing packages for the prediction of time-series data\n",
    "\n",
    "from statsmodels.tsa.arima_model import ARIMA\n",
    "from sklearn.metrics import mean_squared_error\n",
    "import matplotlib.pyplot as plt\n",
    "import pandas as pd\n",
    "\n",
    "#configuring the Environment\n",
    "color = sns.color_palette()\n",
    "%matplotlib inline\n",
    "\n",
    "pd.options.mode.chained_assignment = None\n",
    "pd.options.display.max_columns = 999"
   ]
  },
  {
   "cell_type": "code",
   "execution_count": 66,
   "metadata": {},
   "outputs": [
    {
     "name": "stdout",
     "output_type": "stream",
     "text": [
      "      date  txVolume(USD)  adjustedTxVolume(USD)   txCount  marketcap(USD)  \\\n",
      "0     2015            NaN                    NaN       NaN             NaN   \n",
      "1     2015            NaN                    NaN       NaN             NaN   \n",
      "2     2015            NaN                    NaN       NaN             NaN   \n",
      "3     2015            NaN                    NaN       NaN             NaN   \n",
      "4     2015            NaN                    NaN       NaN             NaN   \n",
      "...    ...            ...                    ...       ...             ...   \n",
      "1439  2019   6.087429e+08           6.087429e+08  809796.0    3.265808e+10   \n",
      "1440  2019   1.412285e+09           1.412285e+09  771955.0    3.347416e+10   \n",
      "1441  2019   8.828935e+08           8.828935e+08  736096.0    3.299991e+10   \n",
      "1442  2019   1.175489e+09           1.175489e+09  975288.0    3.098467e+10   \n",
      "1443  2019   5.532853e+08           5.532853e+08  726392.0    2.871564e+10   \n",
      "\n",
      "       price  exchangeVolume(USD)  generatedCoins        fees  \\\n",
      "0        NaN                  NaN     39311.09375         NaN   \n",
      "1        NaN                  NaN     36191.71875         NaN   \n",
      "2        NaN                  NaN     27702.18750         NaN   \n",
      "3        NaN                  NaN     28227.18750         NaN   \n",
      "4        NaN                  NaN     27976.71875         NaN   \n",
      "...      ...                  ...             ...         ...   \n",
      "1439  305.73         9.078906e+09     13661.81250  533.539068   \n",
      "1440  313.33         1.005516e+10     13672.62500  442.101563   \n",
      "1441  308.85         1.167999e+10     13615.12500  375.450974   \n",
      "1442  289.95         1.021629e+10     13682.12500  731.771199   \n",
      "1443  268.69         8.148936e+09     13497.62500  422.040523   \n",
      "\n",
      "      activeAddresses  medianTxValue(USD)  medianFee  averageDifficulty  \\\n",
      "0                 NaN                 NaN        NaN       1.213355e+11   \n",
      "1                 NaN                 NaN        NaN       6.029419e+11   \n",
      "2                 NaN                 NaN        NaN       8.872542e+11   \n",
      "3                 NaN                 NaN        NaN       1.020254e+12   \n",
      "4                 NaN                 NaN        NaN       1.125837e+12   \n",
      "...               ...                 ...        ...                ...   \n",
      "1439         298844.0                 0.0   0.000458       2.135383e+15   \n",
      "1440         319066.0                 0.0   0.000259       2.183766e+15   \n",
      "1441         303259.0                 0.0   0.000231       2.197977e+15   \n",
      "1442         282703.0                 0.0   0.000735       2.236779e+15   \n",
      "1443         301033.0                 0.0   0.000223       2.269238e+15   \n",
      "\n",
      "      paymentCount  blockSize  blockCount  \n",
      "0              NaN    4449897        6911  \n",
      "1              NaN    3994458        6863  \n",
      "2              NaN    3044344        5293  \n",
      "3              NaN    3112348        5358  \n",
      "4              NaN    3099953        5280  \n",
      "...            ...        ...         ...  \n",
      "1439      285310.0  198882296        6419  \n",
      "1440      306499.0  151390160        6453  \n",
      "1441      292249.0  143419527        6398  \n",
      "1442      292570.0  180206422        6436  \n",
      "1443      278049.0  141807409        6339  \n",
      "\n",
      "[1444 rows x 16 columns]\n"
     ]
    }
   ],
   "source": [
    "crypto_data = {}\n",
    "\n",
    "#crypto_data['bitcoin'] = pd.read_csv('./input/bitcoin_price.csv', parse_dates=['Date'])\n",
    "#crypto_data['bitcoin_cash'] = pd.read_csv(\"./input/bitcoin_cash_price.csv\", parse_dates=['Date'])\n",
    "#crypto_data['dash'] = pd.read_csv(\"./input/dash_price.csv\", parse_dates=['Date'])\n",
    "#crypto_data['ethereum'] = pd.read_csv(\"./input/ethereum_price.csv\", parse_dates=['Date'])\n",
    "#crypto_data['iota'] = pd.read_csv(\"./input/iota_price.csv\", parse_dates=['Date'])\n",
    "#crypto_data['litecoin'] = pd.read_csv(\"./input/litecoin_price.csv\", parse_dates=['Date'])\n",
    "#crypto_data['monero'] = pd.read_csv(\"./input/monero_price.csv\", parse_dates=['Date'])\n",
    "#crypto_data['nem'] = pd.read_csv(\"./input/nem_price.csv\", parse_dates=['Date'])\n",
    "#crypto_data['neo'] = pd.read_csv(\"./input/neo_price.csv\", parse_dates=['Date'])\n",
    "#crypto_data['numeraire'] = pd.read_csv(\"./input/numeraire_price.csv\", parse_dates=['Date'])\n",
    "#crypto_data['ripple'] = pd.read_csv(\"./input/ripple_price.csv\", parse_dates=['Date'])\n",
    "#crypto_data['stratis'] = pd.read_csv(\"./input/stratis_price.csv\", parse_dates=['Date'])\n",
    "#crypto_data['waves'] = pd.read_csv(\"./input/waves_price.csv\", parse_dates=['Date'])\n",
    "crypto_data = pd.read_csv(\"./CryptoDataSet/eth.csv\")\n",
    "\n",
    "\n",
    "\n"
   ]
  },
  {
   "cell_type": "code",
   "execution_count": 76,
   "metadata": {},
   "outputs": [
    {
     "name": "stdout",
     "output_type": "stream",
     "text": [
      "date\n",
      "2015       2.83\n",
      "2016      20.65\n",
      "2017     827.52\n",
      "2018    1397.48\n",
      "2019     336.96\n",
      "Name: price, dtype: float64\n"
     ]
    }
   ],
   "source": [
    "crypto_data = pd.read_csv(\"./CryptoDataSet/eth.csv\")\n",
    "\n",
    "#MAximum price by  year from 1970 to  2019\n",
    "#Convert string date to Datetime  \n",
    "\n",
    "crypto_data['date'] = pd.to_datetime(crypto_data['date'])\n",
    "#Extract year from Date \n",
    "crypto_data['date'] = pd.DatetimeIndex(crypto_data['date']).year\n",
    "#print(crypto_data)\n",
    "\n",
    "maxprice=crypto_data.groupby(['date'], sort=False)['price'].max()\n",
    "print(maxprice)"
   ]
  },
  {
   "cell_type": "code",
   "execution_count": 81,
   "metadata": {},
   "outputs": [
    {
     "ename": "ValueError",
     "evalue": "No axis named price for object type <class 'pandas.core.series.Series'>",
     "output_type": "error",
     "traceback": [
      "\u001b[1;31m---------------------------------------------------------------------------\u001b[0m",
      "\u001b[1;31mValueError\u001b[0m                                Traceback (most recent call last)",
      "\u001b[1;32m<ipython-input-81-6abbcdee6aa1>\u001b[0m in \u001b[0;36m<module>\u001b[1;34m\u001b[0m\n\u001b[0;32m     11\u001b[0m \u001b[0mmaxblockSize\u001b[0m\u001b[1;33m=\u001b[0m\u001b[0mcrypto_data\u001b[0m\u001b[1;33m.\u001b[0m\u001b[0mgroupby\u001b[0m\u001b[1;33m(\u001b[0m\u001b[1;33m[\u001b[0m\u001b[1;34m'date'\u001b[0m\u001b[1;33m]\u001b[0m\u001b[1;33m,\u001b[0m \u001b[0msort\u001b[0m\u001b[1;33m=\u001b[0m\u001b[1;32mFalse\u001b[0m\u001b[1;33m)\u001b[0m\u001b[1;33m[\u001b[0m\u001b[1;34m'blockSize'\u001b[0m\u001b[1;33m]\u001b[0m\u001b[1;33m.\u001b[0m\u001b[0mmax\u001b[0m\u001b[1;33m(\u001b[0m\u001b[1;33m)\u001b[0m\u001b[1;33m\u001b[0m\u001b[1;33m\u001b[0m\u001b[0m\n\u001b[0;32m     12\u001b[0m \u001b[0mmaxblockCount\u001b[0m\u001b[1;33m=\u001b[0m\u001b[0mcrypto_data\u001b[0m\u001b[1;33m.\u001b[0m\u001b[0mgroupby\u001b[0m\u001b[1;33m(\u001b[0m\u001b[1;33m[\u001b[0m\u001b[1;34m'date'\u001b[0m\u001b[1;33m]\u001b[0m\u001b[1;33m,\u001b[0m \u001b[0msort\u001b[0m\u001b[1;33m=\u001b[0m\u001b[1;32mFalse\u001b[0m\u001b[1;33m)\u001b[0m\u001b[1;33m[\u001b[0m\u001b[1;34m'blockCount'\u001b[0m\u001b[1;33m]\u001b[0m\u001b[1;33m.\u001b[0m\u001b[0mmax\u001b[0m\u001b[1;33m(\u001b[0m\u001b[1;33m)\u001b[0m\u001b[1;33m\u001b[0m\u001b[1;33m\u001b[0m\u001b[0m\n\u001b[1;32m---> 13\u001b[1;33m \u001b[0mprint\u001b[0m\u001b[1;33m(\u001b[0m\u001b[0mmaxdayprice\u001b[0m\u001b[1;33m.\u001b[0m\u001b[0msort_values\u001b[0m\u001b[1;33m(\u001b[0m\u001b[1;34m'price'\u001b[0m\u001b[1;33m,\u001b[0m \u001b[0mascending\u001b[0m\u001b[1;33m=\u001b[0m\u001b[1;32mFalse\u001b[0m\u001b[1;33m)\u001b[0m\u001b[1;33m)\u001b[0m\u001b[1;33m\u001b[0m\u001b[1;33m\u001b[0m\u001b[0m\n\u001b[0m\u001b[0;32m     14\u001b[0m \u001b[0mprint\u001b[0m\u001b[1;33m(\u001b[0m\u001b[0mmaxblockSize\u001b[0m\u001b[1;33m.\u001b[0m\u001b[0msort_values\u001b[0m\u001b[1;33m(\u001b[0m\u001b[1;34m'blockSize'\u001b[0m\u001b[1;33m,\u001b[0m \u001b[0mascending\u001b[0m\u001b[1;33m=\u001b[0m\u001b[1;32mFalse\u001b[0m\u001b[1;33m)\u001b[0m\u001b[1;33m)\u001b[0m\u001b[1;33m\u001b[0m\u001b[1;33m\u001b[0m\u001b[0m\n\u001b[0;32m     15\u001b[0m \u001b[0mprint\u001b[0m\u001b[1;33m(\u001b[0m\u001b[0mmaxblockCount\u001b[0m\u001b[1;33m.\u001b[0m\u001b[0msort_values\u001b[0m\u001b[1;33m(\u001b[0m\u001b[1;34m'blockCount'\u001b[0m\u001b[1;33m,\u001b[0m \u001b[0mascending\u001b[0m\u001b[1;33m=\u001b[0m\u001b[1;32mFalse\u001b[0m\u001b[1;33m)\u001b[0m\u001b[1;33m)\u001b[0m\u001b[1;33m\u001b[0m\u001b[1;33m\u001b[0m\u001b[0m\n",
      "\u001b[1;32mC:\\ProgramData\\Anaconda3\\lib\\site-packages\\pandas\\core\\series.py\u001b[0m in \u001b[0;36msort_values\u001b[1;34m(self, axis, ascending, inplace, kind, na_position, ignore_index)\u001b[0m\n\u001b[0;32m   2933\u001b[0m         \u001b[0minplace\u001b[0m \u001b[1;33m=\u001b[0m \u001b[0mvalidate_bool_kwarg\u001b[0m\u001b[1;33m(\u001b[0m\u001b[0minplace\u001b[0m\u001b[1;33m,\u001b[0m \u001b[1;34m\"inplace\"\u001b[0m\u001b[1;33m)\u001b[0m\u001b[1;33m\u001b[0m\u001b[1;33m\u001b[0m\u001b[0m\n\u001b[0;32m   2934\u001b[0m         \u001b[1;31m# Validate the axis parameter\u001b[0m\u001b[1;33m\u001b[0m\u001b[1;33m\u001b[0m\u001b[1;33m\u001b[0m\u001b[0m\n\u001b[1;32m-> 2935\u001b[1;33m         \u001b[0mself\u001b[0m\u001b[1;33m.\u001b[0m\u001b[0m_get_axis_number\u001b[0m\u001b[1;33m(\u001b[0m\u001b[0maxis\u001b[0m\u001b[1;33m)\u001b[0m\u001b[1;33m\u001b[0m\u001b[1;33m\u001b[0m\u001b[0m\n\u001b[0m\u001b[0;32m   2936\u001b[0m \u001b[1;33m\u001b[0m\u001b[0m\n\u001b[0;32m   2937\u001b[0m         \u001b[1;31m# GH 5856/5853\u001b[0m\u001b[1;33m\u001b[0m\u001b[1;33m\u001b[0m\u001b[1;33m\u001b[0m\u001b[0m\n",
      "\u001b[1;32mC:\\ProgramData\\Anaconda3\\lib\\site-packages\\pandas\\core\\generic.py\u001b[0m in \u001b[0;36m_get_axis_number\u001b[1;34m(cls, axis)\u001b[0m\n\u001b[0;32m    405\u001b[0m             \u001b[1;32mexcept\u001b[0m \u001b[0mKeyError\u001b[0m\u001b[1;33m:\u001b[0m\u001b[1;33m\u001b[0m\u001b[1;33m\u001b[0m\u001b[0m\n\u001b[0;32m    406\u001b[0m                 \u001b[1;32mpass\u001b[0m\u001b[1;33m\u001b[0m\u001b[1;33m\u001b[0m\u001b[0m\n\u001b[1;32m--> 407\u001b[1;33m         \u001b[1;32mraise\u001b[0m \u001b[0mValueError\u001b[0m\u001b[1;33m(\u001b[0m\u001b[1;34mf\"No axis named {axis} for object type {cls}\"\u001b[0m\u001b[1;33m)\u001b[0m\u001b[1;33m\u001b[0m\u001b[1;33m\u001b[0m\u001b[0m\n\u001b[0m\u001b[0;32m    408\u001b[0m \u001b[1;33m\u001b[0m\u001b[0m\n\u001b[0;32m    409\u001b[0m     \u001b[1;33m@\u001b[0m\u001b[0mclassmethod\u001b[0m\u001b[1;33m\u001b[0m\u001b[1;33m\u001b[0m\u001b[0m\n",
      "\u001b[1;31mValueError\u001b[0m: No axis named price for object type <class 'pandas.core.series.Series'>"
     ]
    }
   ],
   "source": [
    "#MAximum price by  year from 1970 to  2019\n",
    "#Convert string date to Datetime  \n",
    "crypto_data = pd.read_csv(\"./CryptoDataSet/eth.csv\")\n",
    "\n",
    "crypto_data['date'] = pd.to_datetime(crypto_data['date'])\n",
    "#Extract day from Date \n",
    "crypto_data['date'] = pd.DatetimeIndex(crypto_data['date']).month\n",
    "#print(crypto_data)\n",
    "\n",
    "maxdayprice=crypto_data.groupby(['date'], sort=False)['price'].max()\n",
    "maxblockSize=crypto_data.groupby(['date'], sort=False)['blockSize'].max()\n",
    "maxblockCount=crypto_data.groupby(['date'], sort=False)['blockCount'].max()\n",
    "print(maxdayprice.sort_values('price', ascending=False))\n",
    "print(maxblockSize.sort_values('blockSize', ascending=False))\n",
    "print(maxblockCount.sort_values('blockCount', ascending=False))"
   ]
  },
  {
   "cell_type": "code",
   "execution_count": 70,
   "metadata": {},
   "outputs": [
    {
     "data": {
      "text/plain": [
       "<matplotlib.axes._subplots.AxesSubplot at 0x1f5ac6d69a0>"
      ]
     },
     "execution_count": 70,
     "metadata": {},
     "output_type": "execute_result"
    },
    {
     "data": {
      "image/png": "[encoded data removed]",
      "text/plain": [
       "<Figure size 432x288 with 1 Axes>"
      ]
     },
     "metadata": {
      "needs_background": "light"
     },
     "output_type": "display_data"
    }
   ],
   "source": [
    "\n",
    "# a simple line plot\n",
    "crypto_data.plot(kind='bar',x='date',y='price')\n"
   ]
  }
 ],
 "metadata": {
  "kernelspec": {
   "display_name": "Python 3",
   "language": "python",
   "name": "python3"
  },
  "language_info": {
   "codemirror_mode": {
    "name": "ipython",
    "version": 3
   },
   "file_extension": ".py",
   "mimetype": "text/x-python",
   "name": "python",
   "nbconvert_exporter": "python",
   "pygments_lexer": "ipython3",
   "version": "3.8.3"
  }
 },
 "nbformat": 4,
 "nbformat_minor": 4
}
